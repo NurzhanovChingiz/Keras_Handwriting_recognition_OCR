{
 "cells": [
  {
   "cell_type": "code",
   "execution_count": 1,
   "id": "c3e429fa",
   "metadata": {
    "ExecuteTime": {
     "end_time": "2023-06-17T16:36:03.829936Z",
     "start_time": "2023-06-17T16:36:03.823529Z"
    }
   },
   "outputs": [],
   "source": [
    "import os\n",
    "os.environ[\"TF_CPP_MIN_LOG_LEVEL\"] = \"3\"\n",
    "# Configs\n",
    "class CFG:\n",
    "    #Random seed\n",
    "    SEED = 42\n",
    "    BASE = os.getcwd()\n",
    "    BATCH = 16\n",
    "    LR = 0.00013\n",
    "    epochs = 100\n",
    "    H = 50\n",
    "    W = 200"
   ]
  },
  {
   "cell_type": "code",
   "execution_count": 2,
   "id": "559a3390",
   "metadata": {
    "ExecuteTime": {
     "end_time": "2023-06-17T16:36:10.744122Z",
     "start_time": "2023-06-17T16:36:08.968449Z"
    }
   },
   "outputs": [
    {
     "name": "stdout",
     "output_type": "stream",
     "text": [
      "WARNING:tensorflow:From /tmp/ipykernel_3833658/906163318.py:24: The name tf.keras.backend.set_session is deprecated. Please use tf.compat.v1.keras.backend.set_session instead.\n",
      "\n",
      "seeding done!!!\n"
     ]
    }
   ],
   "source": [
    "import tensorflow as tf\n",
    "import numpy as np\n",
    "import random\n",
    "import os\n",
    "from tensorflow.keras import backend as K\n",
    "\n",
    "def set_seed(seed=42):\n",
    "    # Set the Python hash seed\n",
    "    os.environ['PYTHONHASHSEED']=str(seed)\n",
    "    os.environ['TF_NUM_INTRAOP_THREADS'] = str(seed)\n",
    "    # Set the Python, Numpy and Tensorflow random seeds\n",
    "    random.seed(seed)\n",
    "    np.random.seed(seed)\n",
    "    tf.random.set_seed(seed)\n",
    "    tf.compat.v1.set_random_seed(seed)\n",
    "    # Set deterministic options for Tensorflow\n",
    "    os.environ['TF_DETERMINISTIC_OPS'] = '1'\n",
    "    os.environ['TF_CUDNN_DETERMINISTIC'] = '1'\n",
    "    \n",
    "    # Limit Tensorflow to single thread for full reproducibility\n",
    "    tf.config.threading.set_inter_op_parallelism_threads(1)\n",
    "    session_conf = tf.compat.v1.ConfigProto(intra_op_parallelism_threads=1, inter_op_parallelism_threads=1)\n",
    "    sess = tf.compat.v1.Session(graph=tf.compat.v1.get_default_graph(), config=session_conf)\n",
    "    tf.compat.v1.keras.backend.set_session(sess)\n",
    "    print('seeding done!!!')\n",
    "set_seed(CFG.SEED)"
   ]
  },
  {
   "cell_type": "markdown",
   "id": "102128a3",
   "metadata": {},
   "source": [
    "# Libs"
   ]
  },
  {
   "cell_type": "code",
   "execution_count": 3,
   "id": "4b2b1077",
   "metadata": {
    "ExecuteTime": {
     "end_time": "2023-06-17T16:36:30.118333Z",
     "start_time": "2023-06-17T16:36:29.807621Z"
    }
   },
   "outputs": [],
   "source": [
    "#Standart lib\n",
    "import numpy as np\n",
    "import pandas as pd\n",
    "import seaborn as sns\n",
    "import matplotlib.pyplot as plt\n",
    "%matplotlib inline\n",
    "import random\n",
    "import os\n",
    "import json\n",
    "\n",
    "\n",
    "import pytesseract\n",
    "\n",
    "\n",
    "from glob import glob\n",
    "import cv2\n",
    "\n",
    "from pathlib import Path\n",
    "from collections import Counter"
   ]
  },
  {
   "cell_type": "code",
   "execution_count": 6,
   "id": "f1191350",
   "metadata": {
    "ExecuteTime": {
     "end_time": "2023-06-17T16:47:52.869888Z",
     "start_time": "2023-06-17T16:40:54.189367Z"
    }
   },
   "outputs": [],
   "source": [
    "# Extract tar file\n",
    "# import tarfile\n",
    "\n",
    "# tar = tarfile.open(\"mjsynth.tar.gz\", \"r:gz\")\n",
    "# tar.extractall(path=CFG.BASE)\n",
    "# tar.close()"
   ]
  },
  {
   "cell_type": "code",
   "execution_count": null,
   "id": "b6e2d8b4",
   "metadata": {},
   "outputs": [],
   "source": []
  }
 ],
 "metadata": {
  "hide_input": false,
  "kernelspec": {
   "display_name": "Python 3 (ipykernel)",
   "language": "python",
   "name": "python3"
  },
  "language_info": {
   "codemirror_mode": {
    "name": "ipython",
    "version": 3
   },
   "file_extension": ".py",
   "mimetype": "text/x-python",
   "name": "python",
   "nbconvert_exporter": "python",
   "pygments_lexer": "ipython3",
   "version": "3.10.8"
  },
  "toc": {
   "base_numbering": 1,
   "nav_menu": {},
   "number_sections": true,
   "sideBar": true,
   "skip_h1_title": false,
   "title_cell": "Table of Contents",
   "title_sidebar": "Contents",
   "toc_cell": false,
   "toc_position": {},
   "toc_section_display": true,
   "toc_window_display": false
  }
 },
 "nbformat": 4,
 "nbformat_minor": 5
}
